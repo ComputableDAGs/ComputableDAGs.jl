{
 "cells": [
  {
   "cell_type": "markdown",
   "source": [
    "## Fibonacci"
   ],
   "metadata": {}
  },
  {
   "cell_type": "markdown",
   "source": [
    "In this example, we want to calculate the n-th Fibonacci number using a DAG representation. The input is a tuple of two numbers, the definition of `fib(0)` and `fib(1)`, to make it not just a constant Fibonacci evaluation."
   ],
   "metadata": {}
  },
  {
   "cell_type": "markdown",
   "source": [
    "### Model Definition"
   ],
   "metadata": {}
  },
  {
   "cell_type": "markdown",
   "source": [
    "To define a model for your problem type, simply define a new struct. No specific type inheritance is necessary. An object of this will later represent a specific problem instance."
   ],
   "metadata": {}
  },
  {
   "outputs": [],
   "cell_type": "code",
   "source": [
    "using ComputableDAGs\n",
    "\n",
    "struct Fibonacci\n",
    "    n::Int\n",
    "end"
   ],
   "metadata": {},
   "execution_count": 1
  },
  {
   "cell_type": "markdown",
   "source": [
    "For this example, the n in the model definition is for the `n-th` Fibonacci number we want to calculate."
   ],
   "metadata": {}
  },
  {
   "cell_type": "markdown",
   "source": [
    "### Task definitions"
   ],
   "metadata": {}
  },
  {
   "cell_type": "markdown",
   "source": [
    "For Fibonacci, we only need one type of compute task: An addition of two numbers to yield the next number. Compute tasks can be defined using the `@compute_task` macro. We provide the name, the compute effort, and the function to call."
   ],
   "metadata": {}
  },
  {
   "outputs": [
    {
     "output_type": "execute_result",
     "data": {
      "text/plain": "Main.var\"##226\".Add"
     },
     "metadata": {},
     "execution_count": 2
    }
   ],
   "cell_type": "code",
   "source": [
    "@compute_task Add 1 (+)"
   ],
   "metadata": {},
   "execution_count": 2
  },
  {
   "cell_type": "markdown",
   "source": [
    "### Input definitions"
   ],
   "metadata": {}
  },
  {
   "cell_type": "markdown",
   "source": [
    "For this model, we will need two different input nodes, `fib(0)` and `fib(1)`, to base the rest of the DAG on. Input nodes are distinguished by name."
   ],
   "metadata": {}
  },
  {
   "cell_type": "markdown",
   "source": [
    "To extract the correct numbers from the CDAG input, we have to provide an expression that does so by implementing `ComputableDAGs.input_expr`, given the entry node's name. We'll use `\"fib(0)\"` and `\"fib(1)\"` as names."
   ],
   "metadata": {}
  },
  {
   "outputs": [],
   "cell_type": "code",
   "source": [
    "function ComputableDAGs.input_expr(::Fibonacci, name::String, input_symbol::Symbol)\n",
    "    return if (name == \"fib(0)\")\n",
    "        :($input_symbol[1])\n",
    "    elseif (name == \"fib(1)\")\n",
    "        :($input_symbol[2])\n",
    "    else\n",
    "        assert(false)\n",
    "    end\n",
    "end"
   ],
   "metadata": {},
   "execution_count": 3
  },
  {
   "cell_type": "markdown",
   "source": [
    "For type inference when generating the function later, we also need to define the expected input type for our problem instance. As mentioned above, this is a `Tuple{Int, Int}` in our case."
   ],
   "metadata": {}
  },
  {
   "outputs": [],
   "cell_type": "code",
   "source": [
    "ComputableDAGs.input_type(::Fibonacci) = Tuple{Int, Int}"
   ],
   "metadata": {},
   "execution_count": 4
  },
  {
   "cell_type": "markdown",
   "source": [
    "### Building the DAG"
   ],
   "metadata": {}
  },
  {
   "cell_type": "markdown",
   "source": [
    "To be able to compute a DAG we first have to build it. This is done by implementing `ComputableDAGs.graph` for our problem instance and returning a DAG. We can use several macros to make this simple: `@assemble_dag`, `@add_call`, `@add_entry`."
   ],
   "metadata": {}
  },
  {
   "outputs": [],
   "cell_type": "code",
   "source": [
    "function ComputableDAGs.graph(fib::Fibonacci)\n",
    "    @assert fib.n >= 2\n",
    "    return @assemble_dag begin\n",
    "        n1 = @add_entry \"fib(0)\" 1\n",
    "        n2 = @add_entry \"fib(1)\" 1\n",
    "\n",
    "        for _ in 3:fib.n\n",
    "            n3 = @add_call Add() 1 n1 n2\n",
    "            n1 = n2\n",
    "            n2 = n3\n",
    "        end\n",
    "    end\n",
    "end"
   ],
   "metadata": {},
   "execution_count": 5
  },
  {
   "cell_type": "markdown",
   "source": [
    "In short, `@assemble_dag begin ... end` creates a scope in which `@add_entry` can add entry nodes and `@add_call` can add compute nodes. The whole expression then returns the DAG created in the scope.\n",
    "`@add_entry` takes two arguments: a node name, which is later passed to the `input_expr` implementation we defined above, and the expected data size of the output. This doesn't have to be in bytes, but it should be proportional across all data sizes in the DAG.\n",
    "`@add_call` takes the compute task that the compute node should execute. In our case, this is the `Add` task defined earlier. Note that this has to be an instance of the task object, not just the type name. The second argument is the expected output data size, as with the entry nodes. Finally, a list of all the input nodes to the compute task follows."
   ],
   "metadata": {}
  },
  {
   "cell_type": "markdown",
   "source": [
    "The actual logic follows that of the Fibonacci sequence:\n",
    "$$\n",
    "a_i = a_{i-1} + a_{i-2}\n",
    "$$"
   ],
   "metadata": {}
  },
  {
   "cell_type": "markdown",
   "source": [
    "To achieve this, in each iteration of the for-loop, `n3` is created as a new node representing the addition of `n1` and `n2`. Then, the variables are swapped such that `n1` represents the next $a_{i-2}$ and `n2` is the next $a_{i-1}$."
   ],
   "metadata": {}
  },
  {
   "cell_type": "markdown",
   "source": [
    "### Trying it out"
   ],
   "metadata": {}
  },
  {
   "cell_type": "markdown",
   "source": [
    "This is all we have to do to define the problem. Now we can use ComputableDAGs.jl to generate a callable function from this definition:"
   ],
   "metadata": {}
  },
  {
   "outputs": [],
   "cell_type": "code",
   "source": [
    "fib = Fibonacci(10)\n",
    "dag = graph(fib)\n",
    "f10 = compute_function(dag, fib, cpu_st(), @__MODULE__);"
   ],
   "metadata": {},
   "execution_count": 6
  },
  {
   "cell_type": "markdown",
   "source": [
    "This function is now callable immediately:"
   ],
   "metadata": {}
  },
  {
   "outputs": [
    {
     "output_type": "execute_result",
     "data": {
      "text/plain": "\u001b[32m\u001b[1mTest Passed\u001b[22m\u001b[39m"
     },
     "metadata": {},
     "execution_count": 7
    }
   ],
   "cell_type": "code",
   "source": [
    "using Test\n",
    "@test f10((0, 1)) == 34\n",
    "@test f10((5, 10)) == 445"
   ],
   "metadata": {},
   "execution_count": 7
  },
  {
   "cell_type": "markdown",
   "source": [
    "---\n",
    "\n",
    "*This notebook was generated using [Literate.jl](https://github.com/fredrikekre/Literate.jl).*"
   ],
   "metadata": {}
  }
 ],
 "nbformat_minor": 3,
 "metadata": {
  "language_info": {
   "file_extension": ".jl",
   "mimetype": "application/julia",
   "name": "julia",
   "version": "1.10.10"
  },
  "kernelspec": {
   "name": "julia-1.10",
   "display_name": "Julia 1.10.10",
   "language": "julia"
  }
 },
 "nbformat": 4
}